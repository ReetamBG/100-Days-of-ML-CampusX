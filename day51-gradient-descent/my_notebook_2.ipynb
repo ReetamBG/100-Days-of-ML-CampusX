{
 "cells": [
  {
   "cell_type": "code",
   "execution_count": 1,
   "id": "298a1a8e-7e06-4d6b-bb1a-56d041e2526e",
   "metadata": {},
   "outputs": [],
   "source": [
    "import numpy as np\n",
    "import matplotlib.pyplot as plt\n",
    "import seaborn as sns\n",
    "from sklearn.datasets import make_regression"
   ]
  },
  {
   "cell_type": "code",
   "execution_count": 60,
   "id": "47896f85-2337-438f-b424-bb948262348d",
   "metadata": {},
   "outputs": [],
   "source": [
    "class GDRegressor:\n",
    "\n",
    "    def __init__(self, lr, epochs):\n",
    "        self.m = np.random.randint(100)\n",
    "        self.b = np.random.randint(100)\n",
    "        self.lr = lr\n",
    "        self.epochs = epochs\n",
    "\n",
    "    def fit(self, X_train, y_train):\n",
    "        for epoch in range(self.epochs):\n",
    "            slope_b = -2 * sum(y_train - (self.m * X_train) - self.b)\n",
    "            slope_m = -2 * sum((y_train - (self.m * X_train) - self.b) * X_train)\n",
    "            self.b = self.b - (self.lr * slope_b)\n",
    "            self.m = self.m - (self.lr * slope_m)\n",
    "            \n",
    "    def predict(self, X_test):\n",
    "        return self.m * X_test + self.b"
   ]
  },
  {
   "cell_type": "code",
   "execution_count": 61,
   "id": "325924f0-5634-4c7f-a20a-27fbf71ea687",
   "metadata": {},
   "outputs": [],
   "source": [
    "from sklearn.model_selection import train_test_split\n",
    "\n",
    "X, y = make_regression(n_samples=100, n_features=1, noise=10, random_state=42)\n",
    "X_train, X_test, y_train, y_test = train_test_split(X.ravel(), y, test_size=0.2, random_state=42)"
   ]
  },
  {
   "cell_type": "code",
   "execution_count": 65,
   "id": "fa95a4b5-309e-4bf6-b669-aea727034657",
   "metadata": {},
   "outputs": [
    {
     "data": {
      "text/plain": [
       "0.9333876243500913"
      ]
     },
     "execution_count": 65,
     "metadata": {},
     "output_type": "execute_result"
    }
   ],
   "source": [
    "gd = GDRegressor(lr=0.01, epochs=30)\n",
    "gd.fit(X_train, y_train)\n",
    "y_pred = gd.predict(X_test)\n",
    "\n",
    "from sklearn.metrics import r2_score\n",
    "r2_score(y_pred, y_test)"
   ]
  },
  {
   "cell_type": "code",
   "execution_count": 66,
   "id": "75548217-39d0-47c4-9020-0c70f315512e",
   "metadata": {},
   "outputs": [
    {
     "data": {
      "text/plain": [
       "(np.float64(44.24422523733449), np.float64(0.09914324173477973))"
      ]
     },
     "execution_count": 66,
     "metadata": {},
     "output_type": "execute_result"
    }
   ],
   "source": [
    "gd.m, gd.b"
   ]
  },
  {
   "cell_type": "code",
   "execution_count": 69,
   "id": "b74d58c5-a820-4713-9f2f-2d7051af877b",
   "metadata": {},
   "outputs": [
    {
     "data": {
      "text/plain": [
       "0.9333880091299308"
      ]
     },
     "execution_count": 69,
     "metadata": {},
     "output_type": "execute_result"
    }
   ],
   "source": [
    "from sklearn.linear_model import LinearRegression\n",
    "\n",
    "lr = LinearRegression()\n",
    "lr.fit(X_train.reshape(-1,1), y_train)\n",
    "y_pred = lr.predict(X_test.reshape(-1,1))\n",
    "\n",
    "r2_score(y_pred, y_test)"
   ]
  },
  {
   "cell_type": "code",
   "execution_count": 70,
   "id": "76074724-79c2-4ba0-9f80-4dee1b80b69b",
   "metadata": {},
   "outputs": [
    {
     "data": {
      "text/plain": [
       "(array([44.24418216]), np.float64(0.09922221422587718))"
      ]
     },
     "execution_count": 70,
     "metadata": {},
     "output_type": "execute_result"
    }
   ],
   "source": [
    "lr.coef_, lr.intercept_"
   ]
  },
  {
   "cell_type": "code",
   "execution_count": null,
   "id": "03bfcb9a-09cc-4d32-8134-36d6d25b121f",
   "metadata": {},
   "outputs": [],
   "source": []
  }
 ],
 "metadata": {
  "kernelspec": {
   "display_name": "Python 3 (ipykernel)",
   "language": "python",
   "name": "python3"
  },
  "language_info": {
   "codemirror_mode": {
    "name": "ipython",
    "version": 3
   },
   "file_extension": ".py",
   "mimetype": "text/x-python",
   "name": "python",
   "nbconvert_exporter": "python",
   "pygments_lexer": "ipython3",
   "version": "3.12.5"
  }
 },
 "nbformat": 4,
 "nbformat_minor": 5
}
