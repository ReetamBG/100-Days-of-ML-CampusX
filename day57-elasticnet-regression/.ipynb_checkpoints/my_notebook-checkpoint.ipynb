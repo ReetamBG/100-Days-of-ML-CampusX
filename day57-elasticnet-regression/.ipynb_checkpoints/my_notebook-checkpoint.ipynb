{
 "cells": [
  {
   "cell_type": "code",
   "execution_count": 2,
   "id": "75587d9b-f1bf-4bbb-aa1f-a712bbb9edfc",
   "metadata": {},
   "outputs": [],
   "source": [
    "import numpy as np\n",
    "from sklearn.linear_model import Ridge, Lasso, ElasticNet\n",
    "from sklearn.datasets import load_diabetes\n",
    "from sklearn.model_selection import train_test_split\n",
    "from sklearn.metrics import r2_score"
   ]
  },
  {
   "cell_type": "code",
   "execution_count": 3,
   "id": "89942743-e364-4507-ae4c-bf080049d9be",
   "metadata": {},
   "outputs": [],
   "source": [
    "X, y = load_diabetes(return_X_y=True)\n",
    "X_train, X_test, y_train, y_test = train_test_split(X, y, test_size=0.2, random_state=42)"
   ]
  },
  {
   "cell_type": "code",
   "execution_count": 135,
   "id": "2f5fe6ea-0ffb-4f59-b3a9-4c1804fbea43",
   "metadata": {},
   "outputs": [
    {
     "name": "stdout",
     "output_type": "stream",
     "text": [
      "R2 Scores : \n",
      "Ridge:0.46085219464119265\n",
      "Lasso:0.4718547867276227\n",
      "ElasticNet:0.2842543312471031\n"
     ]
    }
   ],
   "source": [
    "ri = Ridge(alpha=0.1)\n",
    "la = Lasso(alpha=0.1)\n",
    "en = ElasticNet(alpha=0.1, l1_ratio=0.9)\n",
    "\n",
    "ri.fit(X_train, y_train)\n",
    "la.fit(X_train, y_train)\n",
    "en.fit(X_train, y_train)\n",
    "\n",
    "y_pred_ri = ri.predict(X_test)\n",
    "y_pred_la = la.predict(X_test)\n",
    "y_pred_en = en.predict(X_test)\n",
    "\n",
    "print(f'R2 Scores : \\nRidge:{r2_score(y_test, y_pred_ri)}\\nLasso:{r2_score(y_test, y_pred_la)}\\nElasticNet:{r2_score(y_test, y_pred_en)}')"
   ]
  },
  {
   "cell_type": "code",
   "execution_count": 83,
   "id": "3e227351-3c4e-4f2f-8913-ec8d6c82c6e8",
   "metadata": {},
   "outputs": [
    {
     "data": {
      "text/plain": [
       "array([  42.85566976, -205.49431899,  505.08903304,  317.0932049 ,\n",
       "       -108.50026183,  -86.23673333, -190.36318008,  151.70708637,\n",
       "        392.28931896,   79.9081772 ])"
      ]
     },
     "execution_count": 83,
     "metadata": {},
     "output_type": "execute_result"
    }
   ],
   "source": [
    "ri.coef_"
   ]
  },
  {
   "cell_type": "code",
   "execution_count": 84,
   "id": "04765375-7e8a-4b70-b6fa-6f5bb25cccb9",
   "metadata": {},
   "outputs": [
    {
     "data": {
      "text/plain": [
       "array([   0.        , -152.66477923,  552.69777529,  303.36515791,\n",
       "        -81.36500664,   -0.        , -229.25577639,    0.        ,\n",
       "        447.91952518,   29.64261704])"
      ]
     },
     "execution_count": 84,
     "metadata": {},
     "output_type": "execute_result"
    }
   ],
   "source": [
    "la.coef_"
   ]
  },
  {
   "cell_type": "code",
   "execution_count": 133,
   "id": "3cc910b5-2baf-48ae-bf66-89825c72b2e5",
   "metadata": {},
   "outputs": [
    {
     "data": {
      "text/plain": [
       "array([ 0.40100389,  0.        ,  3.41353382,  2.32614375,  0.4595766 ,\n",
       "        0.12555225, -1.78311241,  2.12401019,  3.07139136,  1.90618344])"
      ]
     },
     "execution_count": 133,
     "metadata": {},
     "output_type": "execute_result"
    }
   ],
   "source": [
    "en.coef_"
   ]
  },
  {
   "cell_type": "markdown",
   "id": "6db842a0-57c0-4004-98bd-874ea5dc4126",
   "metadata": {},
   "source": [
    "# Elastic Net using SGDRegressor"
   ]
  },
  {
   "cell_type": "code",
   "execution_count": 138,
   "id": "244ce423-dfe0-4c6b-81d3-71277d6316cd",
   "metadata": {},
   "outputs": [
    {
     "data": {
      "text/plain": [
       "0.2845977377810095"
      ]
     },
     "execution_count": 138,
     "metadata": {},
     "output_type": "execute_result"
    }
   ],
   "source": [
    "from sklearn.linear_model import SGDRegressor\n",
    "\n",
    "sgd = SGDRegressor(penalty='elasticnet', alpha=0.1, l1_ratio=0.9, learning_rate='constant')\n",
    "sgd.fit(X_train, y_train)\n",
    "\n",
    "r2_score(y_test, sgd.predict(X_test))"
   ]
  },
  {
   "cell_type": "code",
   "execution_count": null,
   "id": "f03ab8f5-30b3-4270-80c2-cf35666f4912",
   "metadata": {},
   "outputs": [],
   "source": []
  }
 ],
 "metadata": {
  "kernelspec": {
   "display_name": "Python 3 (ipykernel)",
   "language": "python",
   "name": "python3"
  },
  "language_info": {
   "codemirror_mode": {
    "name": "ipython",
    "version": 3
   },
   "file_extension": ".py",
   "mimetype": "text/x-python",
   "name": "python",
   "nbconvert_exporter": "python",
   "pygments_lexer": "ipython3",
   "version": "3.12.5"
  }
 },
 "nbformat": 4,
 "nbformat_minor": 5
}
