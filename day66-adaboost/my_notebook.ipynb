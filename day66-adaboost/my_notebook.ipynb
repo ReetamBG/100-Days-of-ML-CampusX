{
 "cells": [
  {
   "cell_type": "markdown",
   "id": "181af2a5-ef5a-4409-b2ec-9da2dba662fb",
   "metadata": {},
   "source": [
    "# Adaboost from scratch (using the learning tool notebook)"
   ]
  },
  {
   "cell_type": "code",
   "execution_count": null,
   "id": "bdd0c8f9-51e5-4daf-97e8-8bbdb8aebec6",
   "metadata": {},
   "outputs": [],
   "source": []
  }
 ],
 "metadata": {
  "kernelspec": {
   "display_name": "Python 3 (ipykernel)",
   "language": "python",
   "name": "python3"
  },
  "language_info": {
   "codemirror_mode": {
    "name": "ipython",
    "version": 3
   },
   "file_extension": ".py",
   "mimetype": "text/x-python",
   "name": "python",
   "nbconvert_exporter": "python",
   "pygments_lexer": "ipython3",
   "version": "3.12.6"
  }
 },
 "nbformat": 4,
 "nbformat_minor": 5
}
