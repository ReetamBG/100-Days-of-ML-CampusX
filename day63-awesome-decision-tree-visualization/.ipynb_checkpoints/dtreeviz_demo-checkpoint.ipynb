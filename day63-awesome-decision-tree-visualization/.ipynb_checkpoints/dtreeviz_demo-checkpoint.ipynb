{
 "cells": [
  {
   "cell_type": "code",
   "execution_count": 3,
   "metadata": {
    "id": "B1nWeWjfIuTr",
    "scrolled": true
   },
   "outputs": [
    {
     "name": "stdout",
     "output_type": "stream",
     "text": [
      "Defaulting to user installation because normal site-packages is not writeable\n",
      "Requirement already satisfied: dtreeviz in /home/ree/.local/lib/python3.12/site-packages (2.2.2)\n",
      "Requirement already satisfied: graphviz>=0.9 in /home/ree/.local/lib/python3.12/site-packages (from dtreeviz) (0.20.3)\n",
      "Requirement already satisfied: pandas in /home/ree/.local/lib/python3.12/site-packages (from dtreeviz) (2.2.2)\n",
      "Requirement already satisfied: numpy in /usr/lib64/python3.12/site-packages (from dtreeviz) (1.26.4)\n",
      "Requirement already satisfied: scikit-learn in /home/ree/.local/lib/python3.12/site-packages (from dtreeviz) (1.5.2)\n",
      "Requirement already satisfied: matplotlib in /usr/lib64/python3.12/site-packages (from dtreeviz) (3.8.4)\n",
      "Requirement already satisfied: colour in /home/ree/.local/lib/python3.12/site-packages (from dtreeviz) (0.1.5)\n",
      "Requirement already satisfied: pytest in /home/ree/.local/lib/python3.12/site-packages (from dtreeviz) (8.3.3)\n",
      "Requirement already satisfied: contourpy>=1.0.1 in /usr/lib64/python3.12/site-packages (from matplotlib->dtreeviz) (1.2.0)\n",
      "Requirement already satisfied: cycler>=0.10 in /usr/lib/python3.12/site-packages (from matplotlib->dtreeviz) (0.11.0)\n",
      "Requirement already satisfied: fonttools>=4.22.0 in /usr/lib64/python3.12/site-packages (from matplotlib->dtreeviz) (4.50.0)\n",
      "Requirement already satisfied: kiwisolver>=1.3.1 in /usr/lib64/python3.12/site-packages (from matplotlib->dtreeviz) (1.4.7)\n",
      "Requirement already satisfied: packaging>=20.0 in /usr/lib/python3.12/site-packages (from matplotlib->dtreeviz) (23.2)\n",
      "Requirement already satisfied: pillow>=8 in /usr/lib64/python3.12/site-packages (from matplotlib->dtreeviz) (10.3.0)\n",
      "Requirement already satisfied: pyparsing>=2.3.1 in /usr/lib/python3.12/site-packages (from matplotlib->dtreeviz) (3.1.2)\n",
      "Requirement already satisfied: python-dateutil>=2.7 in /usr/lib/python3.12/site-packages (from matplotlib->dtreeviz) (2.8.2)\n",
      "Requirement already satisfied: pytz>=2020.1 in /home/ree/.local/lib/python3.12/site-packages (from pandas->dtreeviz) (2024.1)\n",
      "Requirement already satisfied: tzdata>=2022.7 in /home/ree/.local/lib/python3.12/site-packages (from pandas->dtreeviz) (2024.1)\n",
      "Requirement already satisfied: iniconfig in /home/ree/.local/lib/python3.12/site-packages (from pytest->dtreeviz) (2.0.0)\n",
      "Requirement already satisfied: pluggy<2,>=1.5 in /home/ree/.local/lib/python3.12/site-packages (from pytest->dtreeviz) (1.5.0)\n",
      "Requirement already satisfied: scipy>=1.6.0 in /usr/lib64/python3.12/site-packages (from scikit-learn->dtreeviz) (1.11.3)\n",
      "Requirement already satisfied: joblib>=1.2.0 in /home/ree/.local/lib/python3.12/site-packages (from scikit-learn->dtreeviz) (1.4.2)\n",
      "Requirement already satisfied: threadpoolctl>=3.1.0 in /home/ree/.local/lib/python3.12/site-packages (from scikit-learn->dtreeviz) (3.5.0)\n",
      "Requirement already satisfied: six>=1.5 in /usr/lib/python3.12/site-packages (from python-dateutil>=2.7->matplotlib->dtreeviz) (1.16.0)\n",
      "Defaulting to user installation because normal site-packages is not writeable\n",
      "Requirement already satisfied: graphviz in /home/ree/.local/lib/python3.12/site-packages (0.20.3)\n"
     ]
    }
   ],
   "source": [
    "!pip install dtreeviz\n",
    "!pip install graphviz"
   ]
  },
  {
   "cell_type": "code",
   "execution_count": 4,
   "metadata": {
    "id": "eCy17YiQJUHN"
   },
   "outputs": [
    {
     "ename": "ModuleNotFoundError",
     "evalue": "No module named 'graphviz'",
     "output_type": "error",
     "traceback": [
      "\u001b[0;31m---------------------------------------------------------------------------\u001b[0m",
      "\u001b[0;31mModuleNotFoundError\u001b[0m                       Traceback (most recent call last)",
      "Cell \u001b[0;32mIn[4], line 1\u001b[0m\n\u001b[0;32m----> 1\u001b[0m \u001b[38;5;28;01mimport\u001b[39;00m \u001b[38;5;21;01mgraphviz\u001b[39;00m\u001b[38;5;21;01m.\u001b[39;00m\u001b[38;5;21;01mbackend\u001b[39;00m \u001b[38;5;28;01mas\u001b[39;00m \u001b[38;5;21;01mbe\u001b[39;00m\n",
      "\u001b[0;31mModuleNotFoundError\u001b[0m: No module named 'graphviz'"
     ]
    }
   ],
   "source": [
    "import graphviz.backend as be"
   ]
  },
  {
   "cell_type": "code",
   "execution_count": null,
   "metadata": {
    "id": "UGbAgYRRKAHc"
   },
   "outputs": [],
   "source": [
    "from sklearn.datasets import *\n",
    "from dtreeviz.trees import *\n",
    "from IPython.display import Image, display_svg, SVG"
   ]
  },
  {
   "cell_type": "code",
   "execution_count": null,
   "metadata": {
    "colab": {
     "base_uri": "https://localhost:8080/"
    },
    "id": "Z9HczOFHh2jy",
    "outputId": "67a3d275-20a8-49e7-bf94-2d5d013be3d5"
   },
   "outputs": [],
   "source": [
    "clas = tree.DecisionTreeClassifier()  \n",
    "iris = load_iris()\n",
    "\n",
    "X_train = iris.data\n",
    "y_train = iris.target\n",
    "clas.fit(X_train, y_train)"
   ]
  },
  {
   "cell_type": "code",
   "execution_count": null,
   "metadata": {
    "colab": {
     "base_uri": "https://localhost:8080/",
     "height": 335
    },
    "id": "zIDZD1vih4E5",
    "outputId": "20ca5dab-be9b-444b-d7e3-59efd2c18cdc"
   },
   "outputs": [],
   "source": [
    "from sklearn.tree import plot_tree\n",
    "plot_tree(clas)"
   ]
  },
  {
   "cell_type": "markdown",
   "metadata": {
    "id": "EHpmNTX3Ur_1"
   },
   "source": [
    "# 1. Classification"
   ]
  },
  {
   "cell_type": "code",
   "execution_count": null,
   "metadata": {
    "colab": {
     "base_uri": "https://localhost:8080/",
     "height": 606
    },
    "id": "gvR2Lk8zKCif",
    "outputId": "7467cd44-dcc3-4d19-9dab-1bf0cf17038a"
   },
   "outputs": [],
   "source": [
    "\n",
    "\n",
    "viz = dtreeviz(clas, \n",
    "               X_train,\n",
    "               y_train,\n",
    "               feature_names=iris.feature_names, \n",
    "               class_names=[\"setosa\", \"versicolor\", \"virginica\"],\n",
    "               scale=2)    # scale = size of the figure\n",
    "viz\n"
   ]
  },
  {
   "cell_type": "markdown",
   "metadata": {
    "id": "A9yym4sdUx9u"
   },
   "source": [
    "# 2. Regression"
   ]
  },
  {
   "cell_type": "code",
   "execution_count": null,
   "metadata": {
    "colab": {
     "base_uri": "https://localhost:8080/",
     "height": 375
    },
    "id": "lDfrTNpXKGAE",
    "outputId": "62de411c-4d5a-4db8-e76b-1008f5c7cf6c"
   },
   "outputs": [],
   "source": [
    "regr = tree.DecisionTreeRegressor(max_depth=1)\n",
    "boston = load_boston()\n",
    "\n",
    "X_train = boston.data\n",
    "y_train = boston.target\n",
    "regr.fit(X_train, y_train)\n",
    "\n",
    "viz = dtreeviz(regr,\n",
    "               X_train,\n",
    "               y_train,\n",
    "               target_name='price',\n",
    "               feature_names=boston.feature_names,\n",
    "               scale=2\n",
    "              )\n",
    "viz"
   ]
  },
  {
   "cell_type": "markdown",
   "metadata": {
    "id": "awfq_QLTU7R8"
   },
   "source": [
    "# 3. Horizontal Decision Tree"
   ]
  },
  {
   "cell_type": "code",
   "execution_count": null,
   "metadata": {
    "colab": {
     "base_uri": "https://localhost:8080/",
     "height": 444
    },
    "id": "GdrTD9oHKsPR",
    "outputId": "3931f8cd-df38-4427-d0a9-089514f8a211"
   },
   "outputs": [],
   "source": [
    "viz = dtreeviz(clas, \n",
    "               X_train,\n",
    "               y_train,\n",
    "               target_name='price',\n",
    "               feature_names=iris.feature_names, \n",
    "               class_names=[\"setosa\", \"versicolor\", \"virginica\"], \n",
    "               scale = 1.5,\n",
    "               orientation='LR')    # orientation = left to right\n",
    "viz"
   ]
  },
  {
   "cell_type": "markdown",
   "metadata": {
    "id": "qGq0SQdtVLvL"
   },
   "source": [
    "# 4. Show prediction path"
   ]
  },
  {
   "cell_type": "code",
   "execution_count": null,
   "metadata": {
    "colab": {
     "base_uri": "https://localhost:8080/",
     "height": 638
    },
    "id": "f-fycCofLB4T",
    "outputId": "023668d4-c343-4b05-8c20-fffe8a87aecf"
   },
   "outputs": [],
   "source": [
    "clas = tree.DecisionTreeClassifier()  \n",
    "iris = load_iris()\n",
    "\n",
    "X_train = iris.data\n",
    "y_train = iris.target\n",
    "clas.fit(X_train, y_train)\n",
    "\n",
    "X = iris.data[np.random.randint(0, len(iris.data)),:]    \n",
    "\n",
    "viz = dtreeviz(clas, \n",
    "               X_train,\n",
    "               y_train,\n",
    "               feature_names=iris.feature_names, \n",
    "               class_names=[\"setosa\", \"versicolor\", \"virginica\"], \n",
    "               X=X)     # X will show the prediction path for the point X\n",
    "viz"
   ]
  },
  {
   "cell_type": "code",
   "execution_count": null,
   "metadata": {
    "colab": {
     "base_uri": "https://localhost:8080/"
    },
    "id": "FElZ8fQBl2Dx",
    "outputId": "4f701716-ba95-4dad-d59e-a9c23274acc3"
   },
   "outputs": [],
   "source": [
    "X"
   ]
  },
  {
   "cell_type": "markdown",
   "metadata": {
    "id": "l6hdJJcvVQLj"
   },
   "source": [
    "# 5. Show node number"
   ]
  },
  {
   "cell_type": "code",
   "execution_count": null,
   "metadata": {
    "colab": {
     "base_uri": "https://localhost:8080/",
     "height": 774
    },
    "id": "YtEgarF_LKID",
    "outputId": "f9ed1554-0652-4dcc-e87c-5453f44cdbb1"
   },
   "outputs": [],
   "source": [
    "\n",
    "viz = dtreeviz(clas, \n",
    "               X_train,\n",
    "               y_train,\n",
    "               target_name='price',\n",
    "               feature_names=iris.feature_names, \n",
    "               class_names=[\"setosa\", \"versicolor\", \"virginica\"], \n",
    "               histtype= 'barstacked',\n",
    "               scale = 1.5,\n",
    "               orientation='LR',\n",
    "               show_node_labels=True)\n",
    "viz"
   ]
  },
  {
   "cell_type": "markdown",
   "metadata": {
    "id": "LsDb5dL5VXXN"
   },
   "source": [
    "# 6. Without Any graphs"
   ]
  },
  {
   "cell_type": "code",
   "execution_count": null,
   "metadata": {
    "colab": {
     "base_uri": "https://localhost:8080/",
     "height": 310
    },
    "id": "g8Umu4XwLRLg",
    "outputId": "d6fb7f5e-1b88-4fc9-a3e5-9416b9daffea"
   },
   "outputs": [],
   "source": [
    "viz = dtreeviz(clas, \n",
    "               X_train,\n",
    "               y_train,\n",
    "               target_name='price',\n",
    "               feature_names=iris.feature_names, \n",
    "               class_names=[\"setosa\", \"versicolor\", \"virginica\"], \n",
    "               histtype= 'barstacked',\n",
    "               scale = 1.5,\n",
    "               orientation='LR',\n",
    "               fancy=False)\n",
    "viz"
   ]
  },
  {
   "cell_type": "markdown",
   "metadata": {
    "id": "b_IesOO6Ves0"
   },
   "source": [
    "# 7. Show just prediction path, nothing else"
   ]
  },
  {
   "cell_type": "code",
   "execution_count": null,
   "metadata": {
    "colab": {
     "base_uri": "https://localhost:8080/",
     "height": 519
    },
    "id": "Tq4cfTzpQ6fD",
    "outputId": "d254a367-696a-433a-bc38-fd126309da86"
   },
   "outputs": [],
   "source": [
    "clas = tree.DecisionTreeClassifier()  \n",
    "iris = load_iris()\n",
    "\n",
    "X_train = iris.data\n",
    "y_train = iris.target\n",
    "clas.fit(X_train, y_train)\n",
    "\n",
    "X = iris.data[np.random.randint(0, len(iris.data)),:]\n",
    "\n",
    "viz = dtreeviz(clas, \n",
    "               X_train,\n",
    "               y_train,\n",
    "               target_name='price',\n",
    "               feature_names=iris.feature_names, \n",
    "               class_names=[\"setosa\", \"versicolor\", \"virginica\"], \n",
    "               X=X,\n",
    "               show_just_path=True)\n",
    "viz"
   ]
  },
  {
   "cell_type": "markdown",
   "metadata": {
    "id": "WllTI11NVnEt"
   },
   "source": [
    "# 8. Prediction Path in Plain english"
   ]
  },
  {
   "cell_type": "code",
   "execution_count": null,
   "metadata": {
    "colab": {
     "base_uri": "https://localhost:8080/"
    },
    "id": "hMeQeVsAREzs",
    "outputId": "5e8f5d0f-715c-4454-d8bb-ffb5c7b22ab5"
   },
   "outputs": [],
   "source": [
    "print(explain_prediction_path(clas, X, feature_names=iris.feature_names, explanation_type=\"plain_english\"))"
   ]
  },
  {
   "cell_type": "markdown",
   "metadata": {
    "id": "02jIIqX5Vt0c"
   },
   "source": [
    "# 9. Feature Importance"
   ]
  },
  {
   "cell_type": "code",
   "execution_count": null,
   "metadata": {
    "colab": {
     "base_uri": "https://localhost:8080/",
     "height": 355
    },
    "id": "2B6-VKxpRT_K",
    "outputId": "11b80b0f-ce7f-4659-d313-7a854509df10"
   },
   "outputs": [],
   "source": [
    "print(explain_prediction_path(clas, X, feature_names=iris.feature_names, explanation_type=\"sklearn_default\"))"
   ]
  },
  {
   "cell_type": "markdown",
   "metadata": {
    "id": "WTkh2o6bV2zm"
   },
   "source": [
    "# 10. Univariate Regression"
   ]
  },
  {
   "cell_type": "code",
   "execution_count": null,
   "metadata": {
    "colab": {
     "base_uri": "https://localhost:8080/",
     "height": 326
    },
    "id": "BedXNaRMRgsU",
    "outputId": "29f4d96c-9e85-429c-c4c1-eb98fadd9fd7"
   },
   "outputs": [],
   "source": [
    "import pandas as pd\n",
    "import matplotlib.pyplot as plt\n",
    "from sklearn.tree import DecisionTreeRegressor\n",
    "from dtreeviz.trees import *\n",
    "\n",
    "df_cars = pd.read_csv(\"cars.csv\")\n",
    "X, y = df_cars[['WGT']], df_cars['MPG']\n",
    "\n",
    "dt = DecisionTreeRegressor(max_depth=3, criterion=\"mae\")\n",
    "dt.fit(X, y)\n",
    "\n",
    "fig = plt.figure()\n",
    "ax = fig.gca()\n",
    "rtreeviz_univar(dt, X, y, 'WGT', 'MPG', ax=ax)\n",
    "plt.show()"
   ]
  },
  {
   "cell_type": "markdown",
   "metadata": {
    "id": "7A-7zcvgV_JT"
   },
   "source": [
    "# 11. 3-D Regression "
   ]
  },
  {
   "cell_type": "code",
   "execution_count": null,
   "metadata": {
    "colab": {
     "base_uri": "https://localhost:8080/",
     "height": 408
    },
    "id": "J35G9NKQSOpU",
    "outputId": "de9c71f9-2ed3-43fa-d324-49e7920caa37"
   },
   "outputs": [],
   "source": [
    "df_cars = pd.read_csv(\"cars.csv\")\n",
    "\n",
    "df_cars"
   ]
  },
  {
   "cell_type": "code",
   "execution_count": null,
   "metadata": {
    "colab": {
     "base_uri": "https://localhost:8080/",
     "height": 303
    },
    "id": "n1u7N5KhcEvD",
    "outputId": "6e6938c1-07db-49c0-b4e7-940a920af83c"
   },
   "outputs": [],
   "source": [
    "from mpl_toolkits.mplot3d import Axes3D\n",
    "from sklearn.tree import DecisionTreeRegressor\n",
    "from dtreeviz.trees import *\n",
    "\n",
    "\n",
    "X = df_cars[['WGT','ENG']]\n",
    "y = df_cars['MPG']\n",
    "\n",
    "dt = DecisionTreeRegressor(max_depth=3, criterion=\"mae\")\n",
    "dt.fit(X, y)\n",
    "\n",
    "figsize = (6,5)\n",
    "fig = plt.figure(figsize=figsize)\n",
    "ax = fig.add_subplot(111, projection='3d')\n",
    "\n",
    "t = rtreeviz_bivar_3D(dt,\n",
    "                      X, y,\n",
    "                      feature_names=['Vehicle Weight', 'Horse Power'],\n",
    "                      target_name='MPG',\n",
    "                      fontsize=14,\n",
    "                      elev=20,\n",
    "                      azim=25,\n",
    "                      dist=8.2,\n",
    "                      show={'splits','title'},\n",
    "                      ax=ax)\n",
    "plt.show()"
   ]
  },
  {
   "cell_type": "code",
   "execution_count": null,
   "metadata": {
    "id": "Jn_eJkIUSVVz"
   },
   "outputs": [],
   "source": []
  }
 ],
 "metadata": {
  "colab": {
   "name": "dtreeviz-demo.ipynb",
   "provenance": []
  },
  "kernelspec": {
   "display_name": "ML",
   "language": "python",
   "name": "ml"
  },
  "language_info": {
   "codemirror_mode": {
    "name": "ipython",
    "version": 3
   },
   "file_extension": ".py",
   "mimetype": "text/x-python",
   "name": "python",
   "nbconvert_exporter": "python",
   "pygments_lexer": "ipython3",
   "version": "3.12.6"
  }
 },
 "nbformat": 4,
 "nbformat_minor": 4
}
