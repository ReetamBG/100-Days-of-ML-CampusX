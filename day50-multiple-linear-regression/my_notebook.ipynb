{
 "cells": [
  {
   "cell_type": "code",
   "execution_count": 1,
   "id": "2605bc54-612e-4e89-812f-dfe4848e9dc3",
   "metadata": {},
   "outputs": [],
   "source": [
    "from sklearn.datasets import make_regression\n",
    "from sklearn.datasets import load_diabetes\n",
    "\n",
    "import numpy as np\n",
    "import pandas as pd"
   ]
  },
  {
   "cell_type": "markdown",
   "id": "293b4998-76a8-4bdb-a716-ccbe16a7b3f4",
   "metadata": {},
   "source": [
    "### Making my own Linear Regression Class"
   ]
  },
  {
   "cell_type": "code",
   "execution_count": 10,
   "id": "abe88c55-9c18-42da-a7f9-f1116066504e",
   "metadata": {},
   "outputs": [],
   "source": [
    "class MeraLR:\n",
    "\n",
    "    def __init__(self):\n",
    "        self.coef_ = None\n",
    "        self.intercept_ = None\n",
    "\n",
    "    def fit(self, X_train, y_train):\n",
    "\n",
    "        # inserting 1 in the first row (see X matrix in notes)\n",
    "        X_train = np.insert(X_train, 0, 1, axis=1)    \n",
    "\n",
    "        # calculating the coefficient matrix\n",
    "        m1 = np.dot(X_train.T, X_train)    \n",
    "        m1 = np.linalg.inv(m1)              # (XT.X)^-1\n",
    "        m2 = X_train.T                      # XT\n",
    "        m3 = y_train                        # Y\n",
    "\n",
    "\n",
    "        beta_matrix = np.linalg.multi_dot([m1,m2,m3])   # need to dot product one by one [cannot do np.dot(m1,m2,m3) ]   \n",
    "                                                        # or we can use np.linalg.multi_dot([m1,m2,m3]) \n",
    "\n",
    "        self.coef_ = beta_matrix[1:]      \n",
    "        self.intercept_ = beta_matrix[0]  \n",
    "\n",
    "    def predict(self, X_test):\n",
    "\n",
    "        # B0 is added  seperately cuz X_test does not have 1 in first column\n",
    "        # B1 - Bm is multiplied with X_test\n",
    "        # simple logic and observation\n",
    "        y_pred = self.intercept_ + np.dot(X_test, self.coef_)    \n",
    "        return y_pred"
   ]
  },
  {
   "cell_type": "code",
   "execution_count": 11,
   "id": "d9098d7c-79f8-4bc1-8a69-984bd4fa7781",
   "metadata": {},
   "outputs": [
    {
     "data": {
      "text/plain": [
       "((442, 10), (442,))"
      ]
     },
     "execution_count": 11,
     "metadata": {},
     "output_type": "execute_result"
    }
   ],
   "source": [
    "X, y = load_diabetes(return_X_y=True)\n",
    "\n",
    "X.shape, y.shape"
   ]
  },
  {
   "cell_type": "code",
   "execution_count": 12,
   "id": "f29eb3bd-3ce8-4a83-8fe1-61f37608fd3b",
   "metadata": {},
   "outputs": [
    {
     "data": {
      "text/plain": [
       "(0.09621602305047738,\n",
       " array([  47.74968054, -241.99090728,  531.97106288,  381.56286182,\n",
       "        -918.50290455,  508.25778252,  116.95016447,  269.4923028 ,\n",
       "         695.80811712,   26.32458203]),\n",
       " np.float64(151.66517559199332))"
      ]
     },
     "execution_count": 12,
     "metadata": {},
     "output_type": "execute_result"
    }
   ],
   "source": [
    "from sklearn.model_selection import train_test_split\n",
    "from sklearn.metrics import r2_score\n",
    "\n",
    "X_train, X_test, y_train, y_test = train_test_split(X, y, test_size=0.25, random_state=42)\n",
    "\n",
    "lr = MeraLR()\n",
    "lr.fit(X_train, y_train)\n",
    "y_pred = lr.predict(X_test)\n",
    "\n",
    "r2_score(y_pred, y_test), lr.coef_, lr.intercept_"
   ]
  },
  {
   "cell_type": "code",
   "execution_count": 13,
   "id": "1cb47164-a04f-4ed0-8290-28519ec209fe",
   "metadata": {},
   "outputs": [
    {
     "data": {
      "text/plain": [
       "(0.09621602305047694,\n",
       " array([  47.74968054, -241.99090728,  531.97106288,  381.56286182,\n",
       "        -918.50290455,  508.25778252,  116.95016447,  269.4923028 ,\n",
       "         695.80811712,   26.32458203]),\n",
       " np.float64(151.6651755919933))"
      ]
     },
     "execution_count": 13,
     "metadata": {},
     "output_type": "execute_result"
    }
   ],
   "source": [
    "from sklearn.linear_model import LinearRegression\n",
    "\n",
    "lr = LinearRegression()\n",
    "lr.fit(X_train, y_train)\n",
    "y_pred = lr.predict(X_test)\n",
    "\n",
    "r2_score(y_pred, y_test), lr.coef_, lr.intercept_"
   ]
  },
  {
   "cell_type": "code",
   "execution_count": null,
   "id": "a5ac186c-44c4-42a0-809b-123a992e91fe",
   "metadata": {},
   "outputs": [],
   "source": [
    "y_pred = lr.predict"
   ]
  },
  {
   "cell_type": "code",
   "execution_count": null,
   "id": "7debb3d1-cd59-49ce-b8af-5f86b322228a",
   "metadata": {},
   "outputs": [],
   "source": []
  },
  {
   "cell_type": "code",
   "execution_count": null,
   "id": "ffea3399-4516-4b33-b579-3c7a5aebbb0f",
   "metadata": {},
   "outputs": [],
   "source": []
  },
  {
   "cell_type": "code",
   "execution_count": null,
   "id": "709bb5bc-ccc1-4804-b00b-b7ce59ec3836",
   "metadata": {},
   "outputs": [],
   "source": []
  },
  {
   "cell_type": "code",
   "execution_count": null,
   "id": "74ca272f-ffab-44f7-a154-9affadad83bf",
   "metadata": {},
   "outputs": [],
   "source": []
  },
  {
   "cell_type": "code",
   "execution_count": null,
   "id": "68179120-a22c-41b2-9369-b4f35a0fb9e4",
   "metadata": {},
   "outputs": [],
   "source": []
  },
  {
   "cell_type": "code",
   "execution_count": null,
   "id": "0f3b4c5a-2e1f-44b6-8cdc-7bc5676473de",
   "metadata": {},
   "outputs": [],
   "source": []
  },
  {
   "cell_type": "code",
   "execution_count": null,
   "id": "2806b893-a6a9-4c65-98bd-aa1ee7132db5",
   "metadata": {},
   "outputs": [],
   "source": []
  },
  {
   "cell_type": "code",
   "execution_count": null,
   "id": "30171430-aefb-48a9-8192-3596d16b6d73",
   "metadata": {},
   "outputs": [],
   "source": []
  },
  {
   "cell_type": "code",
   "execution_count": 39,
   "id": "d03c3781-82b4-49df-bbff-360f97589540",
   "metadata": {},
   "outputs": [
    {
     "data": {
      "text/html": [
       "<div>\n",
       "<style scoped>\n",
       "    .dataframe tbody tr th:only-of-type {\n",
       "        vertical-align: middle;\n",
       "    }\n",
       "\n",
       "    .dataframe tbody tr th {\n",
       "        vertical-align: top;\n",
       "    }\n",
       "\n",
       "    .dataframe thead th {\n",
       "        text-align: right;\n",
       "    }\n",
       "</style>\n",
       "<table border=\"1\" class=\"dataframe\">\n",
       "  <thead>\n",
       "    <tr style=\"text-align: right;\">\n",
       "      <th></th>\n",
       "      <th>X1</th>\n",
       "      <th>X2</th>\n",
       "      <th>target</th>\n",
       "    </tr>\n",
       "  </thead>\n",
       "  <tbody>\n",
       "    <tr>\n",
       "      <th>0</th>\n",
       "      <td>-0.792521</td>\n",
       "      <td>0.504987</td>\n",
       "      <td>11.309054</td>\n",
       "    </tr>\n",
       "    <tr>\n",
       "      <th>1</th>\n",
       "      <td>0.280992</td>\n",
       "      <td>-0.208122</td>\n",
       "      <td>-28.136884</td>\n",
       "    </tr>\n",
       "    <tr>\n",
       "      <th>2</th>\n",
       "      <td>0.791032</td>\n",
       "      <td>1.402794</td>\n",
       "      <td>50.357238</td>\n",
       "    </tr>\n",
       "    <tr>\n",
       "      <th>3</th>\n",
       "      <td>0.625667</td>\n",
       "      <td>-1.070892</td>\n",
       "      <td>-90.904419</td>\n",
       "    </tr>\n",
       "    <tr>\n",
       "      <th>4</th>\n",
       "      <td>-0.342715</td>\n",
       "      <td>-0.161286</td>\n",
       "      <td>-19.234373</td>\n",
       "    </tr>\n",
       "    <tr>\n",
       "      <th>...</th>\n",
       "      <td>...</td>\n",
       "      <td>...</td>\n",
       "      <td>...</td>\n",
       "    </tr>\n",
       "    <tr>\n",
       "      <th>95</th>\n",
       "      <td>0.651391</td>\n",
       "      <td>0.758969</td>\n",
       "      <td>15.442772</td>\n",
       "    </tr>\n",
       "    <tr>\n",
       "      <th>96</th>\n",
       "      <td>1.586017</td>\n",
       "      <td>2.133033</td>\n",
       "      <td>228.363047</td>\n",
       "    </tr>\n",
       "    <tr>\n",
       "      <th>97</th>\n",
       "      <td>0.010233</td>\n",
       "      <td>0.462103</td>\n",
       "      <td>15.894383</td>\n",
       "    </tr>\n",
       "    <tr>\n",
       "      <th>98</th>\n",
       "      <td>-0.234587</td>\n",
       "      <td>-0.420645</td>\n",
       "      <td>-57.190019</td>\n",
       "    </tr>\n",
       "    <tr>\n",
       "      <th>99</th>\n",
       "      <td>-0.327662</td>\n",
       "      <td>-1.463515</td>\n",
       "      <td>-85.315922</td>\n",
       "    </tr>\n",
       "  </tbody>\n",
       "</table>\n",
       "<p>100 rows × 3 columns</p>\n",
       "</div>"
      ],
      "text/plain": [
       "          X1        X2      target\n",
       "0  -0.792521  0.504987   11.309054\n",
       "1   0.280992 -0.208122  -28.136884\n",
       "2   0.791032  1.402794   50.357238\n",
       "3   0.625667 -1.070892  -90.904419\n",
       "4  -0.342715 -0.161286  -19.234373\n",
       "..       ...       ...         ...\n",
       "95  0.651391  0.758969   15.442772\n",
       "96  1.586017  2.133033  228.363047\n",
       "97  0.010233  0.462103   15.894383\n",
       "98 -0.234587 -0.420645  -57.190019\n",
       "99 -0.327662 -1.463515  -85.315922\n",
       "\n",
       "[100 rows x 3 columns]"
      ]
     },
     "execution_count": 39,
     "metadata": {},
     "output_type": "execute_result"
    }
   ],
   "source": [
    "X, y = make_regression(n_samples=100, n_features=3, n_targets=1, noise=30, random_state=42)\n",
    "data = pd.DataFrame({'X1' : X[:,0],\n",
    "                     'X2' : X[:,1],\n",
    "                     'target' : y})\n",
    "data"
   ]
  },
  {
   "cell_type": "code",
   "execution_count": 40,
   "id": "7727c795-9caa-4860-a7d7-2a078939d682",
   "metadata": {},
   "outputs": [
    {
     "name": "stdout",
     "output_type": "stream",
     "text": [
      "\n",
      "MAE = 27.111984750875404\n",
      "MSE = 1073.7924404356081\n",
      "RMSE = 32.76877233641212\n",
      "R2 Score = 0.8450754047024209\n",
      "\n"
     ]
    }
   ],
   "source": [
    "from sklearn.linear_model import LinearRegression\n",
    "from sklearn.model_selection import train_test_split\n",
    "from sklearn.metrics import r2_score, mean_absolute_error, mean_squared_error\n",
    "\n",
    "X_train, X_test, y_train, y_test = train_test_split(X, y, test_size=0.25, random_state=42)\n",
    "\n",
    "lr = LinearRegression()\n",
    "lr.fit(X_train, y_train)\n",
    "y_pred = lr.predict(X_test)\n",
    "\n",
    "print(f'''\n",
    "MAE = {mean_absolute_error(y_pred, y_test)}\n",
    "MSE = {mean_squared_error(y_pred, y_test)}\n",
    "RMSE = {mean_squared_error(y_pred, y_test)**0.5}\n",
    "R2 Score = {r2_score(y_pred, y_test)}\n",
    "''')"
   ]
  },
  {
   "cell_type": "code",
   "execution_count": null,
   "id": "69a65817-7596-40ef-b65a-20984f874304",
   "metadata": {},
   "outputs": [],
   "source": []
  },
  {
   "cell_type": "code",
   "execution_count": null,
   "id": "7f999919-ebe8-40f4-be23-cb199b17c94b",
   "metadata": {},
   "outputs": [],
   "source": []
  }
 ],
 "metadata": {
  "kernelspec": {
   "display_name": "Python 3 (ipykernel)",
   "language": "python",
   "name": "python3"
  },
  "language_info": {
   "codemirror_mode": {
    "name": "ipython",
    "version": 3
   },
   "file_extension": ".py",
   "mimetype": "text/x-python",
   "name": "python",
   "nbconvert_exporter": "python",
   "pygments_lexer": "ipython3",
   "version": "3.12.5"
  }
 },
 "nbformat": 4,
 "nbformat_minor": 5
}
