{
 "cells": [
  {
   "cell_type": "code",
   "execution_count": 1,
   "id": "352023bf-7090-4930-a56c-225b76b8876f",
   "metadata": {},
   "outputs": [],
   "source": [
    "import numpy as np\n",
    "import pandas as pd\n",
    "from sklearn.preprocessing import OrdinalEncoder, OneHotEncoder\n",
    "from sklearn.impute import SimpleImputer"
   ]
  },
  {
   "cell_type": "code",
   "execution_count": 2,
   "id": "8cff7a21-51b3-4539-95db-2434a4dee385",
   "metadata": {},
   "outputs": [
    {
     "data": {
      "text/html": [
       "<div>\n",
       "<style scoped>\n",
       "    .dataframe tbody tr th:only-of-type {\n",
       "        vertical-align: middle;\n",
       "    }\n",
       "\n",
       "    .dataframe tbody tr th {\n",
       "        vertical-align: top;\n",
       "    }\n",
       "\n",
       "    .dataframe thead th {\n",
       "        text-align: right;\n",
       "    }\n",
       "</style>\n",
       "<table border=\"1\" class=\"dataframe\">\n",
       "  <thead>\n",
       "    <tr style=\"text-align: right;\">\n",
       "      <th></th>\n",
       "      <th>age</th>\n",
       "      <th>gender</th>\n",
       "      <th>fever</th>\n",
       "      <th>cough</th>\n",
       "      <th>city</th>\n",
       "      <th>has_covid</th>\n",
       "    </tr>\n",
       "  </thead>\n",
       "  <tbody>\n",
       "    <tr>\n",
       "      <th>0</th>\n",
       "      <td>60</td>\n",
       "      <td>Male</td>\n",
       "      <td>103.0</td>\n",
       "      <td>Mild</td>\n",
       "      <td>Kolkata</td>\n",
       "      <td>No</td>\n",
       "    </tr>\n",
       "    <tr>\n",
       "      <th>1</th>\n",
       "      <td>27</td>\n",
       "      <td>Male</td>\n",
       "      <td>100.0</td>\n",
       "      <td>Mild</td>\n",
       "      <td>Delhi</td>\n",
       "      <td>Yes</td>\n",
       "    </tr>\n",
       "    <tr>\n",
       "      <th>2</th>\n",
       "      <td>42</td>\n",
       "      <td>Male</td>\n",
       "      <td>101.0</td>\n",
       "      <td>Mild</td>\n",
       "      <td>Delhi</td>\n",
       "      <td>No</td>\n",
       "    </tr>\n",
       "    <tr>\n",
       "      <th>3</th>\n",
       "      <td>31</td>\n",
       "      <td>Female</td>\n",
       "      <td>98.0</td>\n",
       "      <td>Mild</td>\n",
       "      <td>Kolkata</td>\n",
       "      <td>No</td>\n",
       "    </tr>\n",
       "    <tr>\n",
       "      <th>4</th>\n",
       "      <td>65</td>\n",
       "      <td>Female</td>\n",
       "      <td>101.0</td>\n",
       "      <td>Mild</td>\n",
       "      <td>Mumbai</td>\n",
       "      <td>No</td>\n",
       "    </tr>\n",
       "    <tr>\n",
       "      <th>...</th>\n",
       "      <td>...</td>\n",
       "      <td>...</td>\n",
       "      <td>...</td>\n",
       "      <td>...</td>\n",
       "      <td>...</td>\n",
       "      <td>...</td>\n",
       "    </tr>\n",
       "    <tr>\n",
       "      <th>95</th>\n",
       "      <td>12</td>\n",
       "      <td>Female</td>\n",
       "      <td>104.0</td>\n",
       "      <td>Mild</td>\n",
       "      <td>Bangalore</td>\n",
       "      <td>No</td>\n",
       "    </tr>\n",
       "    <tr>\n",
       "      <th>96</th>\n",
       "      <td>51</td>\n",
       "      <td>Female</td>\n",
       "      <td>101.0</td>\n",
       "      <td>Strong</td>\n",
       "      <td>Kolkata</td>\n",
       "      <td>Yes</td>\n",
       "    </tr>\n",
       "    <tr>\n",
       "      <th>97</th>\n",
       "      <td>20</td>\n",
       "      <td>Female</td>\n",
       "      <td>101.0</td>\n",
       "      <td>Mild</td>\n",
       "      <td>Bangalore</td>\n",
       "      <td>No</td>\n",
       "    </tr>\n",
       "    <tr>\n",
       "      <th>98</th>\n",
       "      <td>5</td>\n",
       "      <td>Female</td>\n",
       "      <td>98.0</td>\n",
       "      <td>Strong</td>\n",
       "      <td>Mumbai</td>\n",
       "      <td>No</td>\n",
       "    </tr>\n",
       "    <tr>\n",
       "      <th>99</th>\n",
       "      <td>10</td>\n",
       "      <td>Female</td>\n",
       "      <td>98.0</td>\n",
       "      <td>Strong</td>\n",
       "      <td>Kolkata</td>\n",
       "      <td>Yes</td>\n",
       "    </tr>\n",
       "  </tbody>\n",
       "</table>\n",
       "<p>100 rows × 6 columns</p>\n",
       "</div>"
      ],
      "text/plain": [
       "    age  gender  fever   cough       city has_covid\n",
       "0    60    Male  103.0    Mild    Kolkata        No\n",
       "1    27    Male  100.0    Mild      Delhi       Yes\n",
       "2    42    Male  101.0    Mild      Delhi        No\n",
       "3    31  Female   98.0    Mild    Kolkata        No\n",
       "4    65  Female  101.0    Mild     Mumbai        No\n",
       "..  ...     ...    ...     ...        ...       ...\n",
       "95   12  Female  104.0    Mild  Bangalore        No\n",
       "96   51  Female  101.0  Strong    Kolkata       Yes\n",
       "97   20  Female  101.0    Mild  Bangalore        No\n",
       "98    5  Female   98.0  Strong     Mumbai        No\n",
       "99   10  Female   98.0  Strong    Kolkata       Yes\n",
       "\n",
       "[100 rows x 6 columns]"
      ]
     },
     "execution_count": 2,
     "metadata": {},
     "output_type": "execute_result"
    }
   ],
   "source": [
    "df = pd.read_csv('./covid_toy.csv')\n",
    "df"
   ]
  },
  {
   "cell_type": "code",
   "execution_count": 3,
   "id": "53182d97-1f1d-43eb-8d14-9a9bbd366e9e",
   "metadata": {},
   "outputs": [
    {
     "data": {
      "text/plain": [
       "age          55\n",
       "gender        2\n",
       "fever         7\n",
       "cough         2\n",
       "city          4\n",
       "has_covid     2\n",
       "dtype: int64"
      ]
     },
     "execution_count": 3,
     "metadata": {},
     "output_type": "execute_result"
    }
   ],
   "source": [
    "df.nunique()"
   ]
  },
  {
   "cell_type": "code",
   "execution_count": 4,
   "id": "350e0cfe-7632-4510-bb5d-13b87c194293",
   "metadata": {
    "scrolled": true
   },
   "outputs": [
    {
     "data": {
      "text/plain": [
       "(100, 1)"
      ]
     },
     "execution_count": 4,
     "metadata": {},
     "output_type": "execute_result"
    }
   ],
   "source": [
    "oe = OrdinalEncoder(categories=[['Mild', 'Strong']])\n",
    "cough_transformed = oe.fit_transform(df[['cough']])\n",
    "cough_transformed.shape"
   ]
  },
  {
   "cell_type": "code",
   "execution_count": 5,
   "id": "5972946b-82ac-45e8-9e24-777be840998c",
   "metadata": {},
   "outputs": [
    {
     "data": {
      "text/plain": [
       "(100, 4)"
      ]
     },
     "execution_count": 5,
     "metadata": {},
     "output_type": "execute_result"
    }
   ],
   "source": [
    "ohe = OneHotEncoder(drop='first', sparse_output=False)\n",
    "gender_city_transformed = ohe.fit_transform(df[['gender', 'city']])\n",
    "gender_city_transformed.shape"
   ]
  },
  {
   "cell_type": "code",
   "execution_count": 6,
   "id": "94ff99d4-90a8-461c-90c6-4e0c1501458e",
   "metadata": {},
   "outputs": [
    {
     "data": {
      "text/plain": [
       "array(['gender_Male', 'city_Delhi', 'city_Kolkata', 'city_Mumbai'],\n",
       "      dtype=object)"
      ]
     },
     "execution_count": 6,
     "metadata": {},
     "output_type": "execute_result"
    }
   ],
   "source": [
    "ohe.get_feature_names_out()"
   ]
  },
  {
   "cell_type": "code",
   "execution_count": 7,
   "id": "953315b0-0889-41af-8499-7a469b030d81",
   "metadata": {
    "scrolled": true
   },
   "outputs": [
    {
     "data": {
      "text/plain": [
       "(100, 1)"
      ]
     },
     "execution_count": 7,
     "metadata": {},
     "output_type": "execute_result"
    }
   ],
   "source": [
    "si = SimpleImputer(strategy='median')\n",
    "age_transformed = si.fit_transform(df[['age']])\n",
    "age_transformed.shape"
   ]
  },
  {
   "cell_type": "code",
   "execution_count": 8,
   "id": "c0ae0404-18e7-45d9-833d-b1384f103bc4",
   "metadata": {},
   "outputs": [
    {
     "data": {
      "text/plain": [
       "array(['age'], dtype=object)"
      ]
     },
     "execution_count": 8,
     "metadata": {},
     "output_type": "execute_result"
    }
   ],
   "source": [
    "si.get_feature_names_out()"
   ]
  },
  {
   "cell_type": "code",
   "execution_count": 9,
   "id": "90b27143-6a99-4d4d-bba0-e4e595e253da",
   "metadata": {
    "scrolled": true
   },
   "outputs": [
    {
     "data": {
      "text/plain": [
       "array([[60.,  0.,  1.,  0.,  1.,  0.],\n",
       "       [27.,  0.,  1.,  1.,  0.,  0.],\n",
       "       [42.,  0.,  1.,  1.,  0.,  0.],\n",
       "       [31.,  0.,  0.,  0.,  1.,  0.],\n",
       "       [65.,  0.,  0.,  0.,  0.,  1.],\n",
       "       [84.,  0.,  0.,  0.,  0.,  0.],\n",
       "       [14.,  1.,  1.,  0.,  0.,  0.],\n",
       "       [20.,  1.,  0.,  0.,  0.,  1.],\n",
       "       [19.,  1.,  0.,  0.,  0.,  0.],\n",
       "       [64.,  0.,  0.,  1.,  0.,  0.],\n",
       "       [75.,  0.,  0.,  1.,  0.,  0.],\n",
       "       [65.,  0.,  0.,  0.,  0.,  1.],\n",
       "       [25.,  1.,  0.,  0.,  1.,  0.],\n",
       "       [64.,  0.,  1.,  0.,  0.,  0.],\n",
       "       [51.,  0.,  1.,  0.,  0.,  0.],\n",
       "       [70.,  1.,  1.,  0.,  1.,  0.],\n",
       "       [69.,  0.,  0.,  0.,  1.,  0.],\n",
       "       [40.,  1.,  0.,  1.,  0.,  0.],\n",
       "       [64.,  0.,  0.,  0.,  0.,  0.],\n",
       "       [42.,  1.,  0.,  0.,  0.,  0.],\n",
       "       [12.,  1.,  1.,  0.,  0.,  0.],\n",
       "       [73.,  0.,  1.,  0.,  0.,  0.],\n",
       "       [71.,  1.,  0.,  0.,  1.,  0.],\n",
       "       [80.,  0.,  0.,  1.,  0.,  0.],\n",
       "       [13.,  1.,  0.,  0.,  1.,  0.],\n",
       "       [23.,  0.,  1.,  0.,  0.,  1.],\n",
       "       [19.,  0.,  0.,  0.,  1.,  0.],\n",
       "       [33.,  1.,  0.,  1.,  0.,  0.],\n",
       "       [16.,  0.,  1.,  0.,  1.,  0.],\n",
       "       [34.,  1.,  0.,  0.,  0.,  1.],\n",
       "       [15.,  0.,  1.,  1.,  0.,  0.],\n",
       "       [83.,  0.,  1.,  0.,  1.,  0.],\n",
       "       [34.,  1.,  0.,  1.,  0.,  0.],\n",
       "       [26.,  0.,  0.,  0.,  1.,  0.],\n",
       "       [74.,  0.,  1.,  0.,  0.,  1.],\n",
       "       [82.,  1.,  0.,  0.,  0.,  0.],\n",
       "       [38.,  0.,  0.,  0.,  0.,  0.],\n",
       "       [55.,  0.,  1.,  0.,  1.,  0.],\n",
       "       [49.,  0.,  0.,  1.,  0.,  0.],\n",
       "       [50.,  0.,  0.,  0.,  1.,  0.],\n",
       "       [49.,  0.,  0.,  1.,  0.,  0.],\n",
       "       [82.,  0.,  1.,  0.,  1.,  0.],\n",
       "       [27.,  0.,  1.,  1.,  0.,  0.],\n",
       "       [22.,  0.,  0.,  0.,  0.,  0.],\n",
       "       [20.,  1.,  1.,  1.,  0.,  0.],\n",
       "       [72.,  0.,  1.,  0.,  0.,  0.],\n",
       "       [19.,  0.,  0.,  0.,  0.,  1.],\n",
       "       [18.,  0.,  0.,  0.,  0.,  0.],\n",
       "       [66.,  1.,  1.,  0.,  0.,  0.],\n",
       "       [44.,  0.,  1.,  0.,  0.,  1.],\n",
       "       [19.,  0.,  1.,  1.,  0.,  0.],\n",
       "       [11.,  1.,  0.,  0.,  1.,  0.],\n",
       "       [47.,  1.,  0.,  0.,  0.,  0.],\n",
       "       [83.,  0.,  1.,  1.,  0.,  0.],\n",
       "       [60.,  0.,  0.,  0.,  0.,  1.],\n",
       "       [81.,  0.,  0.,  0.,  0.,  1.],\n",
       "       [71.,  1.,  1.,  0.,  1.,  0.],\n",
       "       [49.,  1.,  0.,  0.,  0.,  0.],\n",
       "       [23.,  1.,  1.,  0.,  0.,  1.],\n",
       "       [ 6.,  0.,  0.,  0.,  1.,  0.],\n",
       "       [24.,  1.,  0.,  0.,  0.,  0.],\n",
       "       [81.,  1.,  0.,  0.,  0.,  1.],\n",
       "       [56.,  1.,  0.,  0.,  0.,  0.],\n",
       "       [10.,  0.,  1.,  0.,  0.,  0.],\n",
       "       [42.,  0.,  1.,  0.,  0.,  1.],\n",
       "       [69.,  0.,  0.,  0.,  0.,  0.],\n",
       "       [51.,  0.,  1.,  0.,  1.,  0.],\n",
       "       [65.,  0.,  1.,  0.,  0.,  0.],\n",
       "       [54.,  1.,  0.,  0.,  1.,  0.],\n",
       "       [73.,  0.,  0.,  1.,  0.,  0.],\n",
       "       [68.,  1.,  0.,  1.,  0.,  0.],\n",
       "       [75.,  1.,  0.,  1.,  0.,  0.],\n",
       "       [83.,  0.,  0.,  0.,  1.,  0.],\n",
       "       [34.,  1.,  1.,  0.,  1.,  0.],\n",
       "       [34.,  1.,  0.,  1.,  0.,  0.],\n",
       "       [ 5.,  0.,  1.,  0.,  1.,  0.],\n",
       "       [80.,  0.,  1.,  0.,  0.,  0.],\n",
       "       [ 8.,  0.,  0.,  0.,  1.,  0.],\n",
       "       [11.,  0.,  1.,  0.,  0.,  0.],\n",
       "       [48.,  0.,  0.,  0.,  1.,  0.],\n",
       "       [14.,  0.,  0.,  0.,  0.,  1.],\n",
       "       [65.,  0.,  1.,  1.,  0.,  0.],\n",
       "       [24.,  0.,  1.,  0.,  1.,  0.],\n",
       "       [17.,  0.,  0.,  0.,  1.,  0.],\n",
       "       [69.,  1.,  0.,  0.,  0.,  1.],\n",
       "       [16.,  0.,  0.,  0.,  0.,  0.],\n",
       "       [25.,  0.,  1.,  0.,  0.,  0.],\n",
       "       [47.,  1.,  1.,  0.,  0.,  0.],\n",
       "       [ 5.,  0.,  0.,  0.,  1.,  0.],\n",
       "       [46.,  1.,  1.,  0.,  0.,  0.],\n",
       "       [59.,  1.,  0.,  1.,  0.,  0.],\n",
       "       [38.,  0.,  1.,  1.,  0.,  0.],\n",
       "       [82.,  1.,  0.,  0.,  1.,  0.],\n",
       "       [27.,  0.,  1.,  0.,  1.,  0.],\n",
       "       [79.,  1.,  1.,  0.,  1.,  0.],\n",
       "       [12.,  0.,  0.,  0.,  0.,  0.],\n",
       "       [51.,  1.,  0.,  0.,  1.,  0.],\n",
       "       [20.,  0.,  0.,  0.,  0.,  0.],\n",
       "       [ 5.,  1.,  0.,  0.,  0.,  1.],\n",
       "       [10.,  1.,  0.,  0.,  1.,  0.]])"
      ]
     },
     "execution_count": 9,
     "metadata": {},
     "output_type": "execute_result"
    }
   ],
   "source": [
    "# merging them together\n",
    "\n",
    "merged_stack = np.hstack((age_transformed, cough_transformed, gender_city_transformed))\n",
    "merged_stack"
   ]
  },
  {
   "cell_type": "code",
   "execution_count": 16,
   "id": "63ffbc94-58ad-4edb-8bf0-5092c5bf90f7",
   "metadata": {},
   "outputs": [
    {
     "data": {
      "text/plain": [
       "array(['cough', 'gender_Male', 'city_Delhi', 'city_Kolkata',\n",
       "       'city_Mumbai', 'age'], dtype=object)"
      ]
     },
     "execution_count": 16,
     "metadata": {},
     "output_type": "execute_result"
    }
   ],
   "source": [
    "col_names"
   ]
  },
  {
   "cell_type": "code",
   "execution_count": 18,
   "id": "aff3c3fe-18a6-4225-9fa6-993ac923134f",
   "metadata": {},
   "outputs": [
    {
     "data": {
      "text/html": [
       "<div>\n",
       "<style scoped>\n",
       "    .dataframe tbody tr th:only-of-type {\n",
       "        vertical-align: middle;\n",
       "    }\n",
       "\n",
       "    .dataframe tbody tr th {\n",
       "        vertical-align: top;\n",
       "    }\n",
       "\n",
       "    .dataframe thead th {\n",
       "        text-align: right;\n",
       "    }\n",
       "</style>\n",
       "<table border=\"1\" class=\"dataframe\">\n",
       "  <thead>\n",
       "    <tr style=\"text-align: right;\">\n",
       "      <th></th>\n",
       "      <th>age</th>\n",
       "      <th>cough</th>\n",
       "      <th>gender_Male</th>\n",
       "      <th>city_Delhi</th>\n",
       "      <th>city_Kolkata</th>\n",
       "      <th>city_Mumbai</th>\n",
       "    </tr>\n",
       "  </thead>\n",
       "  <tbody>\n",
       "    <tr>\n",
       "      <th>0</th>\n",
       "      <td>60.0</td>\n",
       "      <td>0.0</td>\n",
       "      <td>1.0</td>\n",
       "      <td>0.0</td>\n",
       "      <td>1.0</td>\n",
       "      <td>0.0</td>\n",
       "    </tr>\n",
       "    <tr>\n",
       "      <th>1</th>\n",
       "      <td>27.0</td>\n",
       "      <td>0.0</td>\n",
       "      <td>1.0</td>\n",
       "      <td>1.0</td>\n",
       "      <td>0.0</td>\n",
       "      <td>0.0</td>\n",
       "    </tr>\n",
       "    <tr>\n",
       "      <th>2</th>\n",
       "      <td>42.0</td>\n",
       "      <td>0.0</td>\n",
       "      <td>1.0</td>\n",
       "      <td>1.0</td>\n",
       "      <td>0.0</td>\n",
       "      <td>0.0</td>\n",
       "    </tr>\n",
       "    <tr>\n",
       "      <th>3</th>\n",
       "      <td>31.0</td>\n",
       "      <td>0.0</td>\n",
       "      <td>0.0</td>\n",
       "      <td>0.0</td>\n",
       "      <td>1.0</td>\n",
       "      <td>0.0</td>\n",
       "    </tr>\n",
       "    <tr>\n",
       "      <th>4</th>\n",
       "      <td>65.0</td>\n",
       "      <td>0.0</td>\n",
       "      <td>0.0</td>\n",
       "      <td>0.0</td>\n",
       "      <td>0.0</td>\n",
       "      <td>1.0</td>\n",
       "    </tr>\n",
       "    <tr>\n",
       "      <th>...</th>\n",
       "      <td>...</td>\n",
       "      <td>...</td>\n",
       "      <td>...</td>\n",
       "      <td>...</td>\n",
       "      <td>...</td>\n",
       "      <td>...</td>\n",
       "    </tr>\n",
       "    <tr>\n",
       "      <th>95</th>\n",
       "      <td>12.0</td>\n",
       "      <td>0.0</td>\n",
       "      <td>0.0</td>\n",
       "      <td>0.0</td>\n",
       "      <td>0.0</td>\n",
       "      <td>0.0</td>\n",
       "    </tr>\n",
       "    <tr>\n",
       "      <th>96</th>\n",
       "      <td>51.0</td>\n",
       "      <td>1.0</td>\n",
       "      <td>0.0</td>\n",
       "      <td>0.0</td>\n",
       "      <td>1.0</td>\n",
       "      <td>0.0</td>\n",
       "    </tr>\n",
       "    <tr>\n",
       "      <th>97</th>\n",
       "      <td>20.0</td>\n",
       "      <td>0.0</td>\n",
       "      <td>0.0</td>\n",
       "      <td>0.0</td>\n",
       "      <td>0.0</td>\n",
       "      <td>0.0</td>\n",
       "    </tr>\n",
       "    <tr>\n",
       "      <th>98</th>\n",
       "      <td>5.0</td>\n",
       "      <td>1.0</td>\n",
       "      <td>0.0</td>\n",
       "      <td>0.0</td>\n",
       "      <td>0.0</td>\n",
       "      <td>1.0</td>\n",
       "    </tr>\n",
       "    <tr>\n",
       "      <th>99</th>\n",
       "      <td>10.0</td>\n",
       "      <td>1.0</td>\n",
       "      <td>0.0</td>\n",
       "      <td>0.0</td>\n",
       "      <td>1.0</td>\n",
       "      <td>0.0</td>\n",
       "    </tr>\n",
       "  </tbody>\n",
       "</table>\n",
       "<p>100 rows × 6 columns</p>\n",
       "</div>"
      ],
      "text/plain": [
       "     age  cough  gender_Male  city_Delhi  city_Kolkata  city_Mumbai\n",
       "0   60.0    0.0          1.0         0.0           1.0          0.0\n",
       "1   27.0    0.0          1.0         1.0           0.0          0.0\n",
       "2   42.0    0.0          1.0         1.0           0.0          0.0\n",
       "3   31.0    0.0          0.0         0.0           1.0          0.0\n",
       "4   65.0    0.0          0.0         0.0           0.0          1.0\n",
       "..   ...    ...          ...         ...           ...          ...\n",
       "95  12.0    0.0          0.0         0.0           0.0          0.0\n",
       "96  51.0    1.0          0.0         0.0           1.0          0.0\n",
       "97  20.0    0.0          0.0         0.0           0.0          0.0\n",
       "98   5.0    1.0          0.0         0.0           0.0          1.0\n",
       "99  10.0    1.0          0.0         0.0           1.0          0.0\n",
       "\n",
       "[100 rows x 6 columns]"
      ]
     },
     "execution_count": 18,
     "metadata": {},
     "output_type": "execute_result"
    }
   ],
   "source": [
    "# making a dataframe with the col names\n",
    "col_names = np.concatenate((si.get_feature_names_out(), oe.get_feature_names_out() , ohe.get_feature_names_out(),))\n",
    "\n",
    "pd.DataFrame(merged_stack, columns=col_names)"
   ]
  },
  {
   "cell_type": "code",
   "execution_count": null,
   "id": "96023cff-da35-450d-96f2-7cee93363286",
   "metadata": {},
   "outputs": [],
   "source": []
  }
 ],
 "metadata": {
  "kernelspec": {
   "display_name": "Python 3 (ipykernel)",
   "language": "python",
   "name": "python3"
  },
  "language_info": {
   "codemirror_mode": {
    "name": "ipython",
    "version": 3
   },
   "file_extension": ".py",
   "mimetype": "text/x-python",
   "name": "python",
   "nbconvert_exporter": "python",
   "pygments_lexer": "ipython3",
   "version": "3.12.4"
  }
 },
 "nbformat": 4,
 "nbformat_minor": 5
}
