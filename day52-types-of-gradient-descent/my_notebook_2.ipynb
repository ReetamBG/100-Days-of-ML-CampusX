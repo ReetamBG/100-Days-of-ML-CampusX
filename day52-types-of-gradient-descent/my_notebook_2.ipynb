{
 "cells": [
  {
   "cell_type": "markdown",
   "id": "c39c6e0a-8df0-42ac-b015-32a29a305f4d",
   "metadata": {},
   "source": [
    "# SGD Regressor"
   ]
  },
  {
   "cell_type": "code",
   "execution_count": 1,
   "id": "1faa8cc8-9b13-4edf-a80b-49c7908c6ffc",
   "metadata": {},
   "outputs": [],
   "source": [
    "import numpy as np\n",
    "from sklearn.datasets import load_diabetes\n",
    "from sklearn.linear_model import SGDRegressor\n",
    "from sklearn.metrics import r2_score\n",
    "from sklearn.model_selection import train_test_split"
   ]
  },
  {
   "cell_type": "code",
   "execution_count": 136,
   "id": "43e40835-f66a-4d00-97b9-a762813cf80b",
   "metadata": {},
   "outputs": [],
   "source": [
    "class SGDRegressor:\n",
    "\n",
    "    def __init__(self, lr=0.01, epochs=100):\n",
    "        self.intercept_ = None\n",
    "        self.coef_ = None\n",
    "        self.lr = lr\n",
    "        self.epochs = epochs\n",
    "\n",
    "    def fit(self, X_train, y_train):\n",
    "        self.intercept_ = 0\n",
    "        self.coef_ = np.ones(X_train.shape[1])\n",
    "        for epoch in range(self.epochs):\n",
    "            for n in range(X_train.shape[0]):                              # n updates each epoch\n",
    "                idx = np.random.randint(0, X_train.shape[0])               # selecting a random row index\n",
    "                y_pred = self.intercept_ + (X_train[idx] @ self.coef_)     # y_pred for that one row/point (1 value)\n",
    "                \n",
    "                # updating the intercept\n",
    "                gradient_intercept = -2 * (y_train[idx] - y_pred)                         # gradient calculated using that row only\n",
    "                self.intercept_ = self.intercept_ - (self.lr * gradient_intercept)    \n",
    "\n",
    "                # updating the coefficients \n",
    "                gradient_coef = -2 * np.dot(y_train[idx] - y_pred, X_train[idx])     # gradient calcualated using that row only\n",
    "                self.coef_ = self.coef_ - (self.lr * gradient_coef)                  # update of gradient for that point\n",
    "\n",
    "        print(f'Intercept : {self.intercept_}\\nCoefficients : {self.coef_}')\n",
    "    \n",
    "    def predict(self, X_test):\n",
    "        return self.intercept_ + (X_test @ self.coef_)"
   ]
  },
  {
   "cell_type": "code",
   "execution_count": 137,
   "id": "cd560415-bd57-4406-ac31-df8201fa2dd9",
   "metadata": {},
   "outputs": [],
   "source": [
    "X, y = load_diabetes(return_X_y=True)\n",
    "X_train, X_test, y_train, y_test = train_test_split(X, y, test_size=0.2, random_state=42)"
   ]
  },
  {
   "cell_type": "code",
   "execution_count": 138,
   "id": "64a81d86-9f98-4cc0-b399-61500fa8aa0f",
   "metadata": {},
   "outputs": [
    {
     "name": "stdout",
     "output_type": "stream",
     "text": [
      "Intercept : 143.89465767438458\n",
      "Coefficients : [  60.66572215 -164.92753835  450.55026936  312.80810936  -45.27571299\n",
      "  -96.72965086 -217.48622469  146.73410548  364.94730473  144.01991631]\n"
     ]
    }
   ],
   "source": [
    "sgd = SGDRegressor(lr=0.1, epochs=10)\n",
    "sgd.fit(X_train, y_train)"
   ]
  },
  {
   "cell_type": "code",
   "execution_count": 104,
   "id": "28648c9a-f3d5-4d61-b737-bcf0e2427a50",
   "metadata": {},
   "outputs": [
    {
     "data": {
      "text/plain": [
       "0.4351038036236289"
      ]
     },
     "execution_count": 104,
     "metadata": {},
     "output_type": "execute_result"
    }
   ],
   "source": [
    "y_pred = sgd.predict(X_test)\n",
    "r2_score(y_test, y_pred)"
   ]
  },
  {
   "cell_type": "code",
   "execution_count": 130,
   "id": "630d3377-679b-456f-bfc4-0f6e98197bb7",
   "metadata": {},
   "outputs": [
    {
     "name": "stderr",
     "output_type": "stream",
     "text": [
      "/home/ree/python_venv/ML/lib64/python3.12/site-packages/sklearn/linear_model/_stochastic_gradient.py:1616: ConvergenceWarning: Maximum number of iteration reached before convergence. Consider increasing max_iter to improve the fit.\n",
      "  warnings.warn(\n"
     ]
    },
    {
     "data": {
      "text/plain": [
       "0.4554691921093781"
      ]
     },
     "execution_count": 130,
     "metadata": {},
     "output_type": "execute_result"
    }
   ],
   "source": [
    "from sklearn.linear_model import SGDRegressor\n",
    "\n",
    "sgd = SGDRegressor(max_iter=150, learning_rate='adaptive', eta0=0.01, tol=0.001)\n",
    "sgd.fit(X_train, y_train)\n",
    "y_pred = sgd.predict(X_test)\n",
    "\n",
    "r2_score(y_test, y_pred)"
   ]
  },
  {
   "cell_type": "code",
   "execution_count": 131,
   "id": "fac3f457-c1fc-4692-a54d-8499a56a8657",
   "metadata": {},
   "outputs": [
    {
     "data": {
      "text/plain": [
       "(array([151.39109982]),\n",
       " array([  52.67709274, -128.62757288,  414.03339134,  278.59144203,\n",
       "         -24.50972145,  -67.56457854, -196.78437463,  147.45563276,\n",
       "         316.73896821,  142.93779211]))"
      ]
     },
     "execution_count": 131,
     "metadata": {},
     "output_type": "execute_result"
    }
   ],
   "source": [
    "sgd.intercept_, sgd.coef_"
   ]
  },
  {
   "cell_type": "code",
   "execution_count": null,
   "id": "0d69d557-7fd5-4dc1-9e7d-30f9bbac3f34",
   "metadata": {},
   "outputs": [],
   "source": []
  }
 ],
 "metadata": {
  "kernelspec": {
   "display_name": "Python 3 (ipykernel)",
   "language": "python",
   "name": "python3"
  },
  "language_info": {
   "codemirror_mode": {
    "name": "ipython",
    "version": 3
   },
   "file_extension": ".py",
   "mimetype": "text/x-python",
   "name": "python",
   "nbconvert_exporter": "python",
   "pygments_lexer": "ipython3",
   "version": "3.12.5"
  }
 },
 "nbformat": 4,
 "nbformat_minor": 5
}
