{
 "cells": [
  {
   "cell_type": "code",
   "execution_count": 4,
   "id": "b9b8e271-9443-452d-a72d-e09e14a41149",
   "metadata": {},
   "outputs": [],
   "source": [
    "import numpy as np\n",
    "from sklearn.model_selection import train_test_split\n",
    "from sklearn.datasets import load_diabetes\n",
    "from sklearn.linear_model import SGDRegressor, Ridge\n",
    "from sklearn.metrics import r2_score"
   ]
  },
  {
   "cell_type": "code",
   "execution_count": 5,
   "id": "9184c9aa-a091-41cf-9787-3c25af51ccdd",
   "metadata": {},
   "outputs": [],
   "source": [
    "X, y = load_diabetes(return_X_y=True)\n",
    "X_train, X_test, y_train, y_test = train_test_split(X, y, test_size=0.2, random_state=42)"
   ]
  },
  {
   "cell_type": "code",
   "execution_count": 66,
   "id": "264ef0ba-57f5-495c-a4c0-9dd92e180a58",
   "metadata": {},
   "outputs": [
    {
     "name": "stdout",
     "output_type": "stream",
     "text": [
      "0.43044533487982906\n",
      "[150.34399834]\n",
      "[  54.93987634  -67.58768654  306.41131609  214.5419411    11.45035718\n",
      "  -18.87590507 -159.64747916  136.88617805  246.46903596  135.6200807 ]\n"
     ]
    }
   ],
   "source": [
    "# one thing to note that even smaller values of alpha effect the result a lot when there are multiple \n",
    "sgd = SGDRegressor(penalty='l2', alpha=0.01, max_iter=1000, learning_rate='constant', eta0=0.01, random_state=42)\n",
    "sgd.fit(X_train, y_train)\n",
    "y_pred = sgd.predict(X_test)\n",
    "\n",
    "print(r2_score(y_test, y_pred))\n",
    "print(sgd.intercept_)\n",
    "print(sgd.coef_)"
   ]
  },
  {
   "cell_type": "code",
   "execution_count": 68,
   "id": "0e67a1e4-7c35-403d-a6fd-1677cced65ee",
   "metadata": {},
   "outputs": [
    {
     "name": "stdout",
     "output_type": "stream",
     "text": [
      "0.46082620941433683\n",
      "151.45854833225684\n",
      "[  42.92845501 -205.58997391  505.00331603  317.12107775 -108.49902293\n",
      "  -86.48366689 -190.1695454   152.17171884  392.1739866    79.9151787 ]\n"
     ]
    }
   ],
   "source": [
    "ri = Ridge(alpha=0.1, solver='sparse_cg', max_iter=1000, random_state=42)\n",
    "ri.fit(X_train, y_train)\n",
    "y_pred = ri.predict(X_test)\n",
    "\n",
    "print(r2_score(y_test, y_pred))\n",
    "print(ri.intercept_)\n",
    "print(ri.coef_)"
   ]
  },
  {
   "cell_type": "code",
   "execution_count": null,
   "id": "7f1b4e70-78e0-4e25-a7fa-b7630d6aac52",
   "metadata": {},
   "outputs": [],
   "source": []
  }
 ],
 "metadata": {
  "kernelspec": {
   "display_name": "Python 3 (ipykernel)",
   "language": "python",
   "name": "python3"
  },
  "language_info": {
   "codemirror_mode": {
    "name": "ipython",
    "version": 3
   },
   "file_extension": ".py",
   "mimetype": "text/x-python",
   "name": "python",
   "nbconvert_exporter": "python",
   "pygments_lexer": "ipython3",
   "version": "3.12.5"
  }
 },
 "nbformat": 4,
 "nbformat_minor": 5
}
