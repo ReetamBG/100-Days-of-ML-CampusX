{
 "cells": [
  {
   "cell_type": "code",
   "execution_count": 89,
   "id": "6031b32f-b2e5-487d-8b0e-1da8c22e939b",
   "metadata": {},
   "outputs": [],
   "source": [
    "import numpy as np\n",
    "from sklearn.datasets import make_regression\n",
    "from sklearn.model_selection import train_test_split"
   ]
  },
  {
   "cell_type": "code",
   "execution_count": 90,
   "id": "fe7ec125-2039-444a-9670-e96a313c5ed5",
   "metadata": {},
   "outputs": [],
   "source": [
    "np.random.seed(42)\n",
    "X, y = make_regression(n_features=1, n_targets=1, n_samples=100, noise=25)\n",
    "X_train, X_test, y_train, y_test = train_test_split(X, y, test_size=0.2, random_state=42)"
   ]
  },
  {
   "cell_type": "code",
   "execution_count": 91,
   "id": "82ea421a-455d-443a-aaf6-ec7a9d42ffb2",
   "metadata": {},
   "outputs": [
    {
     "name": "stdout",
     "output_type": "stream",
     "text": [
      "0.7009845360049722\n",
      "-0.5706877280584282\n",
      "[41.6349107]\n"
     ]
    }
   ],
   "source": [
    "from sklearn.linear_model import Ridge\n",
    "from sklearn.metrics import r2_score\n",
    "\n",
    "ri = Ridge(alpha=10)\n",
    "ri.fit(X_train, y_train)\n",
    "y_pred = ri.predict(X_test)\n",
    "\n",
    "print(r2_score(y_test, y_pred))\n",
    "print(ri.intercept_)\n",
    "print(ri.coef_)"
   ]
  },
  {
   "cell_type": "code",
   "execution_count": 97,
   "id": "f7743654-a628-4ff0-b037-f9eb29d3ffdc",
   "metadata": {},
   "outputs": [],
   "source": [
    "class MeraRidge:\n",
    "\n",
    "    def __init__(self, alpha=0.1):\n",
    "        self.alpha = alpha\n",
    "        self.b = None\n",
    "        self.m = None\n",
    "\n",
    "    def fit(self, X_train, y_train):\n",
    "        X_mean = X_train.mean()\n",
    "        y_mean = y_train.mean()\n",
    "         \n",
    "        self.m = sum(((y_train.reshape(-1,1) - y_mean) * (X_train - X_mean)))\n",
    "        self.m = self.m / (self.alpha + sum((X_train - X_mean)**2))\n",
    "        self.b = y_mean - (self.m * X_mean)\n",
    "\n",
    "    def predict(self, X_test):\n",
    "        return (self.m * X_test) + self.b"
   ]
  },
  {
   "cell_type": "code",
   "execution_count": 100,
   "id": "ccd16efb-8531-4ba9-bf24-30c80bdbfb1d",
   "metadata": {},
   "outputs": [
    {
     "name": "stdout",
     "output_type": "stream",
     "text": [
      "0.7009845360049722\n",
      "[-0.57068773]\n",
      "[41.6349107]\n"
     ]
    }
   ],
   "source": [
    "mera_ri = MeraRidge(alpha=10)\n",
    "mera_ri.fit(X_train, y_train)\n",
    "y_pred = mera_ri.predict(X_test)\n",
    "\n",
    "print(r2_score(y_test, y_pred))\n",
    "print(mera_ri.b)\n",
    "print(mera_ri.m)"
   ]
  },
  {
   "cell_type": "code",
   "execution_count": null,
   "id": "fa18513d-f49e-45ab-83fb-fb9e16d687f0",
   "metadata": {},
   "outputs": [],
   "source": []
  }
 ],
 "metadata": {
  "kernelspec": {
   "display_name": "Python 3 (ipykernel)",
   "language": "python",
   "name": "python3"
  },
  "language_info": {
   "codemirror_mode": {
    "name": "ipython",
    "version": 3
   },
   "file_extension": ".py",
   "mimetype": "text/x-python",
   "name": "python",
   "nbconvert_exporter": "python",
   "pygments_lexer": "ipython3",
   "version": "3.12.5"
  }
 },
 "nbformat": 4,
 "nbformat_minor": 5
}
