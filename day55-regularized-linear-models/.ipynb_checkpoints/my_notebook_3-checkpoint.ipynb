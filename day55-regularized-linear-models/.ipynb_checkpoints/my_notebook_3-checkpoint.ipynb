{
 "cells": [
  {
   "cell_type": "code",
   "execution_count": 1,
   "id": "4b61b598-a5fe-4e91-925d-37c56af1c040",
   "metadata": {},
   "outputs": [],
   "source": [
    "import numpy as np\n",
    "from sklearn.datasets import load_diabetes\n",
    "from sklearn.linear_model import Ridge\n",
    "from sklearn.metrics import r2_score\n",
    "from sklearn.model_selection import train_test_split"
   ]
  },
  {
   "cell_type": "code",
   "execution_count": 3,
   "id": "4fcada5b-9706-4b0c-9c42-95530c7d555f",
   "metadata": {},
   "outputs": [],
   "source": [
    "data = load_diabetes()\n",
    "X = data.data\n",
    "y = data.target\n",
    "X_train, X_test, y_train, y_test = train_test_split(X, y, test_size=0.2, random_state=42)"
   ]
  },
  {
   "cell_type": "code",
   "execution_count": 11,
   "id": "c06839f6-1b4a-4c21-9000-3a43822aea0b",
   "metadata": {},
   "outputs": [
    {
     "name": "stdout",
     "output_type": "stream",
     "text": [
      "0.46113836892116744\n",
      "151.59056002392865\n",
      "[  43.84176324 -178.16466087  463.67778665  295.71548215  -68.49129127\n",
      "  -87.4175183  -191.98568348  143.15931921  353.70880287   94.95802847]\n"
     ]
    }
   ],
   "source": [
    "ri = Ridge(alpha=0.2, solver='cholesky')     # solver='cholesky' will implement the formula from the notes\n",
    "ri.fit(X_train, y_train)\n",
    "y_pred = ri.predict(X_test)\n",
    "\n",
    "print(r2_score(y_test, y_pred))\n",
    "print(ri.intercept_)\n",
    "print(ri.coef_)"
   ]
  },
  {
   "cell_type": "code",
   "execution_count": 46,
   "id": "6cac3b47-2bb1-4f35-8d34-49558bfc0394",
   "metadata": {},
   "outputs": [],
   "source": [
    "class MeraRidge:\n",
    "\n",
    "    def __init__(self, alpha=0.1):\n",
    "        self.alpha = alpha\n",
    "        self.intercept_ = None\n",
    "        self.coef_ = None\n",
    "\n",
    "    def fit(self, X_train, y_train):\n",
    "        I = np.identity(X_train.shape[1]+1)    # identiy matrix of shape = Beta matrix (no. of features + intercept)\n",
    "        I[0,0] = 0                           # setting the first element to 0 so that it does not affect the intercept \n",
    "        \n",
    "        X_train = np.insert(X_train, 0, 1, axis=1)\n",
    "        beta = np.linalg.inv((X_train.T @ X_train) + (self.alpha * I) ) @ (X_train.T @ y_train) \n",
    "\n",
    "        self.intercept_ = beta[0]\n",
    "        self.coef_ = beta[1:]\n",
    "    \n",
    "    def predict(self, X_train):\n",
    "        return self.intercept_ + (X_train @ self.coef_)"
   ]
  },
  {
   "cell_type": "code",
   "execution_count": 47,
   "id": "2ae72528-0dcf-4cb9-a5bc-de253c9d8e80",
   "metadata": {},
   "outputs": [
    {
     "name": "stdout",
     "output_type": "stream",
     "text": [
      "0.4611383689211678\n",
      "151.59056002392862\n",
      "[  43.84176324 -178.16466087  463.67778665  295.71548215  -68.49129127\n",
      "  -87.4175183  -191.98568348  143.15931921  353.70880287   94.95802847]\n"
     ]
    }
   ],
   "source": [
    "mera_ri = MeraRidge(alpha=0.2)\n",
    "mera_ri.fit(X_train, y_train)\n",
    "y_pred = mera_ri.predict(X_test)\n",
    "\n",
    "print(r2_score(y_test, y_pred))\n",
    "print(mera_ri.intercept_)\n",
    "print(mera_ri.coef_)"
   ]
  },
  {
   "cell_type": "code",
   "execution_count": null,
   "id": "18880ed3-8a7c-4eed-881f-3534266a5154",
   "metadata": {},
   "outputs": [],
   "source": []
  }
 ],
 "metadata": {
  "kernelspec": {
   "display_name": "Python 3 (ipykernel)",
   "language": "python",
   "name": "python3"
  },
  "language_info": {
   "codemirror_mode": {
    "name": "ipython",
    "version": 3
   },
   "file_extension": ".py",
   "mimetype": "text/x-python",
   "name": "python",
   "nbconvert_exporter": "python",
   "pygments_lexer": "ipython3",
   "version": "3.12.5"
  }
 },
 "nbformat": 4,
 "nbformat_minor": 5
}
